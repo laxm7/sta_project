{
 "cells": [
  {
   "cell_type": "markdown",
   "id": "53b54cfd",
   "metadata": {},
   "source": "# 1 Introduction to Regions of the stellar initial mass function"
  },
  {
   "cell_type": "markdown",
   "id": "44a2b9575289e754",
   "metadata": {},
   "source": [
    "The stellar initial mass function (IMF) describes the mass distribution of stars at formation. Initially proposed by Salpeter in 1955, the IMF was described as a simple power-law. Later studies introduced more complex forms, such as multi-segment power laws and log-normal distributions, to better represent observed variations, especially among low-mass stars in and beyond the Milky Way [3].\n",
    "\n",
    "Recent research suggests that the IMF may vary depending on the galactic environment, influenced by factors such as gravity, turbulence, and stellar feedback [1]. Observational advances, including the use of high-resolution telescopes, are helping to clarify whether the IMF is truly universal or if it changes with local conditions. Data from recent surveys show evidence of IMF variability, particularly in dense stellar regions and specific galaxy types, potentially c<hallenging its assumed consistency across different environments [2],[4],[5]. This ongoing research continues to refine our understanding of how star formation environments shape the IMF, a critical parameter in modeling stellar populations and galaxy evolution [6]."
   ]
  },
  {
   "cell_type": "markdown",
   "id": "5ae0001d",
   "metadata": {},
   "source": [
    "[1] Review paper 2024: <br>\n",
    "https://www.annualreviews.org/content/journals/10.1146/annurev-astro-052622-031748 \n",
    "\n",
    "[2] Review paper 2020: <br>\n",
    "https://www.annualreviews.org/content/journals/10.1146/annurev-astro-032620-020217\n",
    "\n",
    "(Review papaer 2010: <br>\n",
    "https://ui.adsabs.harvard.edu/abs/2010ARA%26A..48..339B/abstract)\n",
    "\n",
    "[3] Original paper 1955: <br>\n",
    "https://ui.adsabs.harvard.edu/abs/1955ApJ...121..161S/abstract\n",
    "\n",
    "Recent Studies: <br>\n",
    "[4] https://ui.adsabs.harvard.edu/abs/2020A%26A...639A.120L/abstract\n",
    "\n",
    "[5] https://ui.adsabs.harvard.edu/abs/2020arXiv200614997L/abstract\n",
    "\n",
    "[6] https://ui.adsabs.harvard.edu/abs/2024arXiv241007311K/abstract"
   ]
  },
  {
   "cell_type": "markdown",
   "id": "ac9cc035",
   "metadata": {},
   "source": ""
  },
  {
   "metadata": {},
   "cell_type": "code",
   "outputs": [],
   "execution_count": null,
   "source": "",
   "id": "5dd83387107ce8fe"
  }
 ],
 "metadata": {
  "kernelspec": {
   "display_name": "Python 3 (ipykernel)",
   "language": "python",
   "name": "python3"
  },
  "language_info": {
   "codemirror_mode": {
    "name": "ipython",
    "version": 3
   },
   "file_extension": ".py",
   "mimetype": "text/x-python",
   "name": "python",
   "nbconvert_exporter": "python",
   "pygments_lexer": "ipython3",
   "version": "3.9.7"
  }
 },
 "nbformat": 4,
 "nbformat_minor": 5
}
