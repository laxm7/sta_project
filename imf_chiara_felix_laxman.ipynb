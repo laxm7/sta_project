{
 "cells": [
  {
   "cell_type": "markdown",
   "id": "53b54cfd",
   "metadata": {},
   "source": [
    "# Literature Review:"
   ]
  },
  {
   "cell_type": "markdown",
   "id": "7d5cf5849fdccb77",
   "metadata": {},
   "source": [
    "## 1) The Arches cluster out to its tidal radius: dynamical mass segregation and the effect of the extinction law on the stellar mass function (2013 Habibi et. al.)"
   ]
  },
  {
   "cell_type": "markdown",
   "id": "671a58c89c18f505",
   "metadata": {},
   "source": []
  },
  {
   "cell_type": "markdown",
   "id": "d55602ece94f4a1c",
   "metadata": {},
   "source": [
    "# 2) Do Clusters form in a completely mass-segregated way? (2019 Pavlik et. al.)"
   ]
  },
  {
   "cell_type": "markdown",
   "id": "6d38607e60612387",
   "metadata": {},
   "source": []
  },
  {
   "cell_type": "markdown",
   "id": "43a55738eee177b6",
   "metadata": {},
   "source": [
    "# 3) The stellar mass function, binary content and radial structure of the open cluster Praesepe derived from PPMXL and SDSS data"
   ]
  },
  {
   "cell_type": "markdown",
   "id": "44a2b9575289e754",
   "metadata": {},
   "source": []
  },
  {
   "cell_type": "markdown",
   "id": "5ae0001d",
   "metadata": {},
   "source": [
    "Review paper 2024: https://www.annualreviews.org/content/journals/10.1146/annurev-astro-052622-031748 \n",
    "\n",
    "Review paper 2020: https://www.annualreviews.org/content/journals/10.1146/annurev-astro-032620-020217\n",
    "\n",
    "Original paper 1955: https://ui.adsabs.harvard.edu/abs/1955ApJ...121..161S/abstract"
   ]
  },
  {
   "cell_type": "markdown",
   "id": "ac9cc035",
   "metadata": {},
   "source": [
    "Review papaer 2010: https://ui.adsabs.harvard.edu/abs/2010ARA%26A..48..339B/abstract"
   ]
  }
 ],
 "metadata": {
  "kernelspec": {
   "display_name": "Python 3 (ipykernel)",
   "language": "python",
   "name": "python3"
  },
  "language_info": {
   "codemirror_mode": {
    "name": "ipython",
    "version": 3
   },
   "file_extension": ".py",
   "mimetype": "text/x-python",
   "name": "python",
   "nbconvert_exporter": "python",
   "pygments_lexer": "ipython3",
   "version": "3.9.7"
  }
 },
 "nbformat": 4,
 "nbformat_minor": 5
}
