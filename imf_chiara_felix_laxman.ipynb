{
 "cells": [
  {
   "cell_type": "markdown",
   "id": "53b54cfd",
   "metadata": {},
   "source": [
    "# Moin leute\n",
    "## Moin leute\n",
    "### Moin leute\n",
    "#### Moin leute\n",
    "##### Moin leute"
   ]
  },
  {
   "metadata": {},
   "cell_type": "markdown",
   "source": "hi",
   "id": "2fc075cb3713083a"
  },
  {
   "metadata": {},
   "cell_type": "code",
   "outputs": [],
   "execution_count": null,
   "source": "",
   "id": "c8b04a208b4cdd12"
  }
 ],
 "metadata": {
  "kernelspec": {
   "display_name": "Python 3 (ipykernel)",
   "language": "python",
   "name": "python3"
  },
  "language_info": {
   "codemirror_mode": {
    "name": "ipython",
    "version": 3
   },
   "file_extension": ".py",
   "mimetype": "text/x-python",
   "name": "python",
   "nbconvert_exporter": "python",
   "pygments_lexer": "ipython3",
   "version": "3.9.7"
  }
 },
 "nbformat": 4,
 "nbformat_minor": 5
}
