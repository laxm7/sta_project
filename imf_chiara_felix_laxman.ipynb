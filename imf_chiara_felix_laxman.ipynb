{
 "cells": [
  {
   "cell_type": "markdown",
   "id": "53b54cfd",
   "metadata": {},
   "source": [
    "# 1 Introduction to the Initial Mass Function (IMF)\n",
    "\n",
    "The Initial Mass Function (IMF) describes the distribution of stellar masses at birth, providing critical insight into star formation, stellar evolution, and galaxy formation. The IMF determines the number of stars at each mass range within a stellar population, influencing the chemical enrichment, mass distribution, and feedback processes in galaxies. Edwin Salpeter first established a foundational model for the IMF in 1955, proposing a power-law distribution that aptly describes the abundance of massive stars in the Milky Way. This \"Salpeter slope,\" which assumes $N(M) \\propto M^{-2.35}$, became a standard for understanding stellar populations in star-forming regions [3].\n",
    "\n",
    "Recent studies have expanded on Salpeter's work, exploring IMF variations in different environments. For instance, massive early-type galaxies (ETGs) exhibit an IMF that deviates from the Milky Way's, often presenting a steeper, \"bottom-heavy\" IMF that suggests a higher proportion of low-mass stars. This variation is supported by spectroscopic studies and gravitational lensing models, which reveal that the IMF in ETGs might depend on galactic conditions, indicating that it is not universal [2].\n",
    "\n",
    "Further exploration into the physical origin of the IMF, such as the role of turbulence, gravity, and magnetic fields in star-forming clouds, has provided deeper insights. Recent reviews outline these fundamental processes, suggesting that both high- and low-mass star formation processes are influenced by environmental factors like Mach number and density distribution. These findings help to clarify the conditions under which stars of different masses form and how these conditions shape the IMF over time [1, 4, 6].\n"
   ]
  },
  {
   "cell_type": "code",
   "execution_count": 2,
   "id": "1b855392",
   "metadata": {},
   "outputs": [
    {
     "name": "stdout",
     "output_type": "stream",
     "text": [
      "Seq   oRA    oDE   AKs(RL) AKs(N) Mi(RL) ...  Jmag   Hmag  Ksmag  A(Ks)  F   Mm\n",
      "     arcsec arcsec   mag    mag    Msun  ...  mag    mag    mag    mag         \n",
      "---- ------ ------ ------- ------ ------ ... ------ ------ ------ ----- --- ---\n",
      "   1   -0.0    0.0   3.472  2.677  67.73 ... 16.794 13.599 11.548 0.007   1   1\n",
      "   2 10.261 -2.708   3.586  2.768 104.73 ...  -99.0 12.388 10.253 0.005   1   1\n",
      "   3  6.817  6.062   3.689  2.847 103.73 ... 14.895 12.169 10.256 0.008   1   1\n",
      "   4  2.071  1.391   3.559  2.745  88.73 ... 15.631 12.376 10.297 0.013   1   1\n",
      "   5  4.487  2.395   3.348  2.582  79.73 ... 15.399 12.417 10.434 0.007   1   1\n",
      "   6  4.908  1.357   3.404  2.629 104.73 ... 14.933 12.009  9.998 0.008   1   1\n",
      "   7  9.374  9.398    -9.0   -9.0 -999.0 ... 16.303 12.416 10.066 0.006   1   0\n",
      "   8   5.56  4.107   3.461  2.673 104.73 ... 14.893 12.102 10.221 0.007   1   1\n",
      "   9 -3.406  1.189    -9.0   -9.0 -999.0 ...  -99.0 10.961 10.353 0.005   1   0\n",
      " ...    ...    ...     ...    ...    ... ...    ...    ...    ...   ... ... ...\n",
      "3342 25.558 34.341    -9.0   -9.0 -999.0 ... 20.828  -99.0 17.748    --   5   0\n",
      "3343 30.452 35.212    -9.0   -9.0 -999.0 ... 19.114  -99.0 17.749    --   5   0\n",
      "3344 21.304 16.346    -9.0   -9.0 -999.0 ... 22.139  -99.0  17.75    --   5   0\n",
      "3345 30.409 24.845    -9.0   -9.0 -999.0 ...  20.59  -99.0 17.773    --   5   0\n",
      "3346 13.498 32.238    -9.0   -9.0 -999.0 ... 21.512  -99.0 17.822    --   5   0\n",
      "3347 24.732 18.984    -9.0   -9.0 -999.0 ... 21.845  -99.0 17.834    --   5   0\n",
      "3348  30.08 25.568    -9.0   -9.0 -999.0 ... 22.304  -99.0 18.028    --   5   0\n",
      "3349 33.703 22.898    -9.0   -9.0 -999.0 ... 21.465  -99.0 18.153    --   5   0\n",
      "3350 20.865  24.47    -9.0   -9.0 -999.0 ... 15.841  -99.0 31.504 0.088   5   0\n",
      "3351 32.364 28.832    -9.0   -9.0 -999.0 ... 15.878  -99.0 32.021    --   5   0\n",
      "Length = 3351 rows\n"
     ]
    },
    {
     "name": "stderr",
     "output_type": "stream",
     "text": [
      "C:\\Users\\felix\\AppData\\Local\\Temp\\ipykernel_16608\\3351796352.py:13: RuntimeWarning: divide by zero encountered in log10\n",
      "  plt.plot(np.log10(x[1:]), np.log10(y), \"o\")\n"
     ]
    },
    {
     "data": {
      "image/png": "[encoded data removed]",
      "text/plain": [
       "<Figure size 640x480 with 1 Axes>"
      ]
     },
     "metadata": {},
     "output_type": "display_data"
    }
   ],
   "source": [
    "import numpy as np\n",
    "from matplotlib import pyplot as plt\n",
    "from astropy.io import ascii\n",
    "\n",
    "table = ascii.read(\"./Arches/table5.dat\", readme=\"./Arches/ReadMe.txt\")\n",
    "print(table)\n",
    "m = table[\"Mi(N)\"]\n",
    "m = m[m>0]\n",
    "\n",
    "x = np.logspace(-1, 2, 50)\n",
    "y, _ = np.histogram(m, x)\n",
    "\n",
    "plt.plot(np.log10(x[1:]), np.log10(y), \"o\")\n",
    "plt.show()"
   ]
  },
  {
   "cell_type": "markdown",
   "id": "5ae0001d",
   "metadata": {},
   "source": [
    "# References\n",
    "\n",
    "[1] Review paper 2024 (Hennebelle et al.): <br>\n",
    "The Physical Origin of the Stellar Initial Mass Function <br>\n",
    "https://www.annualreviews.org/content/journals/10.1146/annurev-astro-052622-031748 \n",
    "\n",
    "[2] Review paper 2020 (Russell J. Smith): <br>\n",
    "Evidence for Initial Mass Function Variation in Massive Early-Type Galaxies <br>\n",
    "https://www.annualreviews.org/content/journals/10.1146/annurev-astro-032620-020217\n",
    "\n",
    "[3] Original paper 1955 (Salpeter): <br>\n",
    "The Luminosity Function and Stellar Evolution <br>\n",
    "https://ui.adsabs.harvard.edu/abs/1955ApJ...121..161S/abstract\n",
    "\n",
    "[4] Recent Study 2020 (Leschinski et al.): <br>\n",
    "The future of IMF studies with the ELT and MICADO. I. The local Universe as a resolved IMF laboratory <br>\n",
    "https://ui.adsabs.harvard.edu/abs/2020A%26A...639A.120L/abstract\n",
    "\n",
    "[5] Recent Study 2019 (Pavlik et al.): <br>\n",
    "Do star clusters form in a completely mass-segregated way? <br>\n",
    "https://www.aanda.org/articles/aa/full_html/2019/06/aa34265-18/aa34265-18.html\n",
    "\n",
    "[6] Recent Study 2024 (Kroupa et al.): <br>\n",
    "The initial mass function of stars <br>\n",
    "https://ui.adsabs.harvard.edu/abs/2024arXiv241007311K/abstract\n",
    "\n",
    "[7]Review Paper 2010 (Bastian et al.):\n",
    "A Universal Stellar Initial Mass Function? A Critical Look at Variations\n",
    "https://ui.adsabs.harvard.edu/abs/2010ARA%26A..48..339B/abstract\n",
    "\n",
    "[8]Paper 2013 (Habibi et al.):\n",
    "The Arches cluster out to its tidal radius: dynamical mass segregation and the effect of the extinction law on the stellar mass function\n",
    "https://www.aanda.org/articles/aa/full_html/2013/08/aa20556-12/aa20556-12.html"
   ]
  }
 ],
 "metadata": {
  "kernelspec": {
   "display_name": "Python 3",
   "language": "python",
   "name": "python3"
  },
  "language_info": {
   "codemirror_mode": {
    "name": "ipython",
    "version": 3
   },
   "file_extension": ".py",
   "mimetype": "text/x-python",
   "name": "python",
   "nbconvert_exporter": "python",
   "pygments_lexer": "ipython3",
   "version": "3.12.7"
  }
 },
 "nbformat": 4,
 "nbformat_minor": 5
}
