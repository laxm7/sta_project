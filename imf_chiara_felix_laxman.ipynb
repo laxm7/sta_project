{
 "cells": [
  {
   "cell_type": "markdown",
   "id": "53b54cfd",
   "metadata": {},
   "source": "# Literature Review:"
  },
  {
   "metadata": {},
   "cell_type": "markdown",
   "source": "## 1) The Arches cluster out to its tidal radius: dynamical mass segregation and the effect of the extinction law on the stellar mass function (2013 Habibi et. al.)",
   "id": "7d5cf5849fdccb77"
  },
  {
   "metadata": {},
   "cell_type": "markdown",
   "source": "",
   "id": "671a58c89c18f505"
  },
  {
   "metadata": {},
   "cell_type": "markdown",
   "source": "# 2) Do Clusters form in a completely mass-segregated way? (2019 Pavlik et. al.)",
   "id": "d55602ece94f4a1c"
  },
  {
   "metadata": {},
   "cell_type": "markdown",
   "source": "",
   "id": "6d38607e60612387"
  },
  {
   "metadata": {},
   "cell_type": "markdown",
   "source": "# 3) The stellar mass function, binary content and radial structure of the open cluster Praesepe derived from PPMXL and SDSS data",
   "id": "43a55738eee177b6"
  },
  {
   "metadata": {},
   "cell_type": "markdown",
   "source": "",
   "id": "44a2b9575289e754"
  },
  {
   "metadata": {},
   "cell_type": "code",
   "outputs": [],
   "execution_count": null,
   "source": "",
   "id": "bec9b0fc35c635cf"
  }
 ],
 "metadata": {
  "kernelspec": {
   "display_name": "Python 3 (ipykernel)",
   "language": "python",
   "name": "python3"
  },
  "language_info": {
   "codemirror_mode": {
    "name": "ipython",
    "version": 3
   },
   "file_extension": ".py",
   "mimetype": "text/x-python",
   "name": "python",
   "nbconvert_exporter": "python",
   "pygments_lexer": "ipython3",
   "version": "3.9.7"
  }
 },
 "nbformat": 4,
 "nbformat_minor": 5
}
