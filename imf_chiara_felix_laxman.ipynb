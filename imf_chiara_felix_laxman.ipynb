{
 "cells": [
  {
   "cell_type": "markdown",
   "id": "53b54cfd",
   "metadata": {},
   "source": "# 1 Introduction to Regions of the stellar initial mass function"
  },
  {
   "cell_type": "markdown",
   "id": "43a55738eee177b6",
   "metadata": {},
   "source": ""
  },
  {
   "cell_type": "markdown",
   "id": "44a2b9575289e754",
   "metadata": {},
   "source": []
  },
  {
   "cell_type": "markdown",
   "id": "5ae0001d",
   "metadata": {},
   "source": [
    "Review paper 2024: \n",
    "https://www.annualreviews.org/content/journals/10.1146/annurev-astro-052622-031748 \n",
    "\n",
    "Review paper 2020: \n",
    "https://www.annualreviews.org/content/journals/10.1146/annurev-astro-032620-020217\n",
    "\n",
    "(Review papaer 2010: \n",
    "https://ui.adsabs.harvard.edu/abs/2010ARA%26A..48..339B/abstract)\n",
    "\n",
    "Original paper 1955:\n",
    "https://ui.adsabs.harvard.edu/abs/1955ApJ...121..161S/abstract\n",
    "\n",
    "Recent Studies:\n",
    "https://ui.adsabs.harvard.edu/abs/2020A%26A...639A.120L/abstract\n",
    "\n",
    "https://ui.adsabs.harvard.edu/abs/2020arXiv200614997L/abstract\n",
    "\n",
    "https://ui.adsabs.harvard.edu/abs/2024arXiv241007311K/abstract"
   ]
  },
  {
   "cell_type": "markdown",
   "id": "ac9cc035",
   "metadata": {},
   "source": ""
  },
  {
   "metadata": {},
   "cell_type": "code",
   "outputs": [],
   "execution_count": null,
   "source": "",
   "id": "5dd83387107ce8fe"
  }
 ],
 "metadata": {
  "kernelspec": {
   "display_name": "Python 3 (ipykernel)",
   "language": "python",
   "name": "python3"
  },
  "language_info": {
   "codemirror_mode": {
    "name": "ipython",
    "version": 3
   },
   "file_extension": ".py",
   "mimetype": "text/x-python",
   "name": "python",
   "nbconvert_exporter": "python",
   "pygments_lexer": "ipython3",
   "version": "3.9.7"
  }
 },
 "nbformat": 4,
 "nbformat_minor": 5
}
