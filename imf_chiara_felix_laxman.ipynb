{
 "cells": [
  {
   "cell_type": "markdown",
   "id": "53b54cfd",
   "metadata": {},
   "source": [
    "# 1 Introduction to the Initial Mass Function (IMF)\n",
    "\n",
    "The Initial Mass Function (IMF) describes the distribution of stellar masses at birth, providing critical insight into star formation, stellar evolution, and galaxy formation. The IMF determines the number of stars at each mass range within a stellar population, influencing the chemical enrichment, mass distribution, and feedback processes in galaxies. Edwin Salpeter first established a foundational model for the IMF in 1955, proposing a power-law distribution that aptly describes the abundance of massive stars in the Milky Way. This \"Salpeter slope,\" which assumes $N(M) \\propto M^{-2.35}$, became a standard for understanding stellar populations in star-forming regions [3].\n",
    "\n",
    "Recent studies have expanded on Salpeter's work, exploring IMF variations in different environments. For instance, massive early-type galaxies (ETGs) exhibit an IMF that deviates from the Milky Way's, often presenting a steeper, \"bottom-heavy\" IMF that suggests a higher proportion of low-mass stars. This variation is supported by spectroscopic studies and gravitational lensing models, which reveal that the IMF in ETGs might depend on galactic conditions, indicating that it is not universal [2].\n",
    "\n",
    "Further exploration into the physical origin of the IMF, such as the role of turbulence, gravity, and magnetic fields in star-forming clouds, has provided deeper insights. Recent reviews outline these fundamental processes, suggesting that both high- and low-mass star formation processes are influenced by environmental factors like Mach number and density distribution. These findings help to clarify the conditions under which stars of different masses form and how these conditions shape the IMF over time [1, 4, 6].\n"
   ]
  },
  {
   "cell_type": "markdown",
   "id": "5ae0001d",
   "metadata": {},
   "source": [
    "# References\n",
    "\n",
    "[1] Review paper 2024 (Hennebelle et al.): <br>\n",
    "The Physical Origin of the Stellar Initial Mass Function <br>\n",
    "https://www.annualreviews.org/content/journals/10.1146/annurev-astro-052622-031748 \n",
    "\n",
    "[2] Review paper 2020 (Russell J. Smith): <br>\n",
    "Evidence for Initial Mass Function Variation in Massive Early-Type Galaxies <br>\n",
    "https://www.annualreviews.org/content/journals/10.1146/annurev-astro-032620-020217\n",
    "\n",
    "[3] Original paper 1955 (Salpeter): <br>\n",
    "The Luminosity Function and Stellar Evolution <br>\n",
    "https://ui.adsabs.harvard.edu/abs/1955ApJ...121..161S/abstract\n",
    "\n",
    "[4] Recent Study 2020 (Leschinski et al.): <br>\n",
    "The future of IMF studies with the ELT and MICADO. I. The local Universe as a resolved IMF laboratory <br>\n",
    "https://ui.adsabs.harvard.edu/abs/2020A%26A...639A.120L/abstract\n",
    "\n",
    "[5] Recent Study 2019 (Pavlik et al.): <br>\n",
    "Do star clusters form in a completely mass-segregated way? <br>\n",
    "https://www.aanda.org/articles/aa/full_html/2019/06/aa34265-18/aa34265-18.html\n",
    "\n",
    "[6] Recent Study 2024 (Kroupa et al.): <br>\n",
    "The initial mass function of stars <br>\n",
    "https://ui.adsabs.harvard.edu/abs/2024arXiv241007311K/abstract"
   ]
  },
  {
   "cell_type": "markdown",
   "id": "ac9cc035",
   "metadata": {},
   "source": ""
  }
 ],
 "metadata": {
  "kernelspec": {
   "display_name": "Python 3 (ipykernel)",
   "language": "python",
   "name": "python3"
  },
  "language_info": {
   "codemirror_mode": {
    "name": "ipython",
    "version": 3
   },
   "file_extension": ".py",
   "mimetype": "text/x-python",
   "name": "python",
   "nbconvert_exporter": "python",
   "pygments_lexer": "ipython3",
   "version": "3.9.7"
  }
 },
 "nbformat": 4,
 "nbformat_minor": 5
}
